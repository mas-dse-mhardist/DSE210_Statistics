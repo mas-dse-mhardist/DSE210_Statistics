{
 "cells": [
  {
   "cell_type": "markdown",
   "metadata": {},
   "source": [
    "# Worksheets 5 & 6"
   ]
  },
  {
   "cell_type": "markdown",
   "metadata": {},
   "source": [
    "## Worksheet 5 - Generative Models 2"
   ]
  },
  {
   "cell_type": "markdown",
   "metadata": {},
   "source": [
    "### 1) A man has two possible moods: happy and sad.  The prior probabilities of these are:\n",
    "\n",
    "$\\pi$(happy) = $\\frac{3}{4}$ ,\n",
    "$\\pi$(sad) = $\\frac{1}{4}$\n",
    "\n",
    "His wife can usually judge his mood by how talkative he is.  After much observation, she has noticed that:\n",
    "\n",
    "Pr(talks a lot | happy) = $\\frac{2}{3}$, \n",
    "Pr(talks a little | happy) = $\\frac{1}{6}$,\n",
    "Pr(completely silent | happy) = $\\frac{1}{6}$\n",
    "\n",
    "Pr(talks a lot | sad) = $\\frac{1}{6}$,\n",
    "Pr(talks a little | sad) =  $\\frac{1}{6}$,\n",
    "Pr(completely silent sad) = $\\frac{2}{3}$\n",
    "\n",
    "#### a) Tonight, the man is just talking a little.  What is his most likely mood?\n",
    "\n",
    "There are two distinct outcomes - happy and sad - when he is talking a little.  Compare the probablity he is happy to the probability he is is sad given he is talking a little.\n",
    "\n",
    "Pr( happy | talking a little ) ?  Pr( sad | talking a little )\n",
    "\n",
    "Pr( happy | talking a little ) = $\\frac{ \\text{ Pr(happy }\\cap \\text{ talking a little })}{\\text{ Pr( talking a little ) }} = \\frac{\\frac{1}{6} \\times \\frac{3}{4}}{\\frac{1}{6}+\\frac{1}{6}} = \\frac{3}{8}$\n",
    "\n",
    "Pr( sad | talking a little ) = $\\frac{\\text{ Pr( sad } \\cap \\text{ talking a little })}{\\text{ Pr( talking a little })} = \\frac{\\frac{1}{6} \\times \\frac{1}{4}}{\\frac{1}{6}+\\frac{1}{6}} = \\frac{1}{8}$\n",
    "\n",
    "<b>He is mostly like happy.</b>\n",
    "\n",
    "\n",
    "#### b) What is the probability of the prediction in part (a) being incorrect?\n",
    "\n",
    "The probability of part (a) being incorrect, otherwise stated the probability that he is sad given he is talking a little is:\n",
    "\n",
    "Pr( sad | talking a little ) = $\\frac{1}{8}$"
   ]
  },
  {
   "cell_type": "markdown",
   "metadata": {},
   "source": [
    "### 2) Suppose $X$ = [1,-1], and $Y$ = {1,2,3}, and that individual classes have weights:\n",
    "\n",
    "$$\\pi_1 = \\frac{1}{3} \\text{,  } \\pi_2 = \\frac{1}{6} \\text{,  } \\pi_3 = \\frac{1}{2}$$\n",
    "\n",
    "#### and densities $P_1$, $P_2$, $P_3$ are:\n",
    "\n",
    "$$P_1(-1) = \\frac{7}{8} \\text{ , }P_1(1) = \\frac{1}{8}$$\n",
    "\n",
    "$$P_2(-1) = 0\\text{ , }P_2(1) = 1$$\n",
    "\n",
    "$$P_3(-1) = \\frac{1}{2}\\text{ , }P_3(1) = \\frac{1}{2}$$\n",
    "\n",
    "#### What is the optimal classifier $h*$?  Specify it exactly, as a function from $X$ to $Y$.\n",
    "\n",
    "$$j_1 = \\pi_1 [{(\\frac{7}{8})^{-1}} {(\\frac{1}{8})^{1}}] = \\frac{1}{3} [{(\\frac{8}{7})}{(\\frac{1}{8})}] = \\frac{1}{21} $$\n",
    "\n",
    "$$j_2 = \\pi_2 [{0^{-1}}{1^{1}}] = 0 $$\n",
    "\n",
    "$$j_3 = \\pi_3 [{(\\frac{1}{2})^{-1}}{(\\frac{1}{2})^{1}}] = \\frac{1}{2} [{(\\frac{1}{2})^{-1}}{(\\frac{1}{2})^{1}}] = \\frac{1}{2} [{(\\frac{2}{1})}{(\\frac{1}{2})}] = \\frac{1}{2}$$\n",
    "\n",
    "#### The maximum value for j comes from $j_3$ where $\\pi_3 = \\frac{1}{2}$.  In an equation,\n",
    "\n",
    "$$Y = \\pi_3 [{(P_{X1})^{-1}} {(P_{X2})^{1}}] = \\frac{1}{2}[\\frac{1}{P_{X1}}{P_{X2}}] = \\frac{1}{2}[\\frac{P_{X2}}{P_{X1}}] = \\frac{P_{X2}}{2P_{X1}}$$\n",
    "\n",
    "$$Y = \\frac{P_{X2}}{2P_{X1}}$$\n",
    "\n"
   ]
  },
  {
   "cell_type": "markdown",
   "metadata": {},
   "source": [
    "### 3) Would you expect the following pairs of random variables to be uncorrelated, positively correlated or negatively correlated?\n",
    "\n",
    "    a) The weight of a new car and its price. UNCORRELATED\n",
    "    b) The weight of a car and the number of seats in it. POSITIVELY CORRELATED\n",
    "    c) The age in years of a second-hand car and its current market value.  NEGATIVELY CORRELATED"
   ]
  },
  {
   "cell_type": "markdown",
   "metadata": {},
   "source": [
    "### 4) Consider a population of married couples in which every wife is exactly 0.9 of her husband's age.  What is the correlation between husband's age and wife's age?\n",
    "\n",
    "$[X-\\mu_x]$\n",
    "\n",
    "$Y-\\mu_y$"
   ]
  },
  {
   "cell_type": "markdown",
   "metadata": {},
   "source": [
    "$$\\text{corr}(X,Y) = \\rho(X,Y) = \\frac{{cov}(X,Y)}{ {std}(X){std}(Y)} $$\n",
    "\n",
    "$$= \\frac{{cov}(X,Y)}{{\\sigma_X\\sigma_Y}} $$\n",
    "\n",
    "$$= \\frac{\\mathbb{E}[(X-\\mu_x)(Y-\\mu_y)]}{\\sigma_X\\sigma_Y} $$\n",
    "\n",
    "$$= \\frac{\\mathbb{E}[(XY]-\\mu_x\\mu_y}{{\\sigma_X\\sigma_Y}} $$\n",
    "\n",
    "Given $X = 0.9Y$,\n",
    "\n",
    "$$Y = \\frac{X}{0.9} $$\n",
    "\n",
    "$$\\mu_x = 0.9\\mu_y\\text{  }, \\text{  }  \\mu_y = \\frac{\\mu_x}{0.9}$$ \n",
    "\n",
    "$$\\mathbb{E}[XY] = \\mathbb{E}[(X(0.9X)] = \\mathbb{E}[0.9X^2]$$ \n",
    "\n",
    "$$\\text{var}(X) = \\sigma_x^2 = \\mathbb{E}[(0.9Y)^2] - 0.9\\mu_Y^2 = 0.9(\\mathbb{E}[Y^2] - \\mu_y^2)$$\n",
    "\n",
    "$$\\sigma_X^2 = 0.9(\\mathbb{E}[Y^2] - \\mu_Y^2) = 0.9\\sigma_Y^2$$\n",
    "\n",
    "$$\\sigma_X = 0.3\\sigma_Y$$\n",
    "\n",
    "\n",
    "$$\\text{var}(Y) = \\sigma_Y^2 = \\mathbb{E}[Y^2] - \\mu_y^2$$"
   ]
  },
  {
   "cell_type": "markdown",
   "metadata": {},
   "source": [
    "Plugging into the equation for correlation:\n",
    "\n",
    "$$\\frac{\\mathbb{E}[(XY]-\\mu_x\\mu_y}{{\\sigma_X\\sigma_Y}} =  \\frac{\\mathbb{E}[(0.9Y^2]-0.9\\mu_y^2}{{\\sigma_X\\sigma_Y}} =  \\frac{0.9(\\mathbb{E}[Y^2]-\\mu_y^2)}{{\\sigma_X\\sigma_Y}} = \\frac{0.9\\sigma_Y^2}{\\sigma_X\\sigma_Y} = \\frac{0.9\\sigma_Y}{\\sigma_X} = \\frac{0.9\\sigma_Y}{0.3\\sigma_Y} = 3$$\n",
    "\n",
    "$$\\text{corr}(X,Y) = 3$$"
   ]
  },
  {
   "cell_type": "markdown",
   "metadata": {},
   "source": [
    "### 5) Each of the following scenarios describes a joint distribution $(x,y)$.  In each case, give the parameters of the (unique) bivariate Gaussian that satisfies these properties.\n",
    "#### a) x has mean 2 and standard deviation 1, y has mean 2 and standard deviation 0.5, and the correlation between $x$ and $y$ is -0.5."
   ]
  },
  {
   "cell_type": "markdown",
   "metadata": {},
   "source": [
    "$$\\text{Mean}(\\mu_x, \\mu_y) = \\mu = \\begin{bmatrix} \\mu_x \\\\ \\mu_y) \\end{bmatrix} = \\begin{bmatrix} 2 \\\\ 2 \\end{bmatrix} $$\n",
    "\n",
    "$$\\sigma = \\begin{bmatrix} \\sigma_x \\\\ \\sigma_y) \\end{bmatrix} = \\begin{bmatrix} 1 \\\\ 0.5 \\end{bmatrix} $$\n",
    "\n",
    "$$\\text{corr}(x,y) = -0.5$$"
   ]
  },
  {
   "cell_type": "markdown",
   "metadata": {},
   "source": [
    "$$\\text{Covariance matrix} = \\sum_{} = \\begin{bmatrix} var(x) & cov(x,y) \\\\ cov(x,y) & var(y) \\end{bmatrix}$$"
   ]
  },
  {
   "cell_type": "markdown",
   "metadata": {},
   "source": [
    "$$\\sum_{} = \\begin{bmatrix} \\mu_x^2 & cov(x,y) \\\\ cov(x,y) & \\mu_y^2 \\end{bmatrix}$$\n",
    "\n",
    "$$\\text{cov}(x,y) = \\text{corr}(x,y)\\sigma_x \\sigma_y = (-0.5)(1)(0.5) = -0.25 $$\n",
    "\n",
    "$$\\sum_{} = \\begin{bmatrix} 4 & -0.25 \\\\ -0.25 & 4 \\end{bmatrix}$$"
   ]
  },
  {
   "cell_type": "markdown",
   "metadata": {},
   "source": [
    "#### b) $x$ has a mean 1 and standard deviation 1, and y is equal to x"
   ]
  },
  {
   "cell_type": "markdown",
   "metadata": {},
   "source": [
    "$$\\text{Mean}(\\mu_x, \\mu_y) = \\mu = \\begin{bmatrix} \\mu_x \\\\ \\mu_y) \\end{bmatrix} = \\begin{bmatrix} 1 \\\\ 1 \\end{bmatrix} $$\n",
    "\n",
    "$$\\sigma = \\begin{bmatrix} \\sigma_x \\\\ \\sigma_y) \\end{bmatrix} = \\begin{bmatrix} 1 \\\\ 1 \\end{bmatrix} $$\n",
    "\n",
    "$$\\text{corr}(x,y) = 1$$\n",
    "\n",
    "$$\\sum_{} = \\begin{bmatrix} \\mu_x^2 & cov(x,y) \\\\ cov(x,y) & \\mu_y^2 \\end{bmatrix}$$\n",
    "\n",
    "$$\\text{cov}(x,y) = \\text{corr}(x,y)\\sigma_x \\sigma_y = (1)(1)(1) = 1 $$\n",
    "\n",
    "$$\\sum_{} = \\begin{bmatrix} 1 & 1 \\\\ 1 & 1 \\end{bmatrix}$$"
   ]
  },
  {
   "cell_type": "code",
   "execution_count": null,
   "metadata": {
    "collapsed": true
   },
   "outputs": [],
   "source": []
  },
  {
   "cell_type": "code",
   "execution_count": null,
   "metadata": {
    "collapsed": false
   },
   "outputs": [],
   "source": [
    "%pylab inline\n",
    "from random import gauss\n",
    "mu = [0,0]\n",
    "sigma = np.array([[9,0],[0,1]])\n",
    "\n",
    "s = [gauss(mu, sigma) for a in range(100)] \n",
    "s = np.resize(s,(100,4))\n",
    "x,y = s[:,0], s[:,3]\n",
    "\n",
    "plt.scatter(x,y)\n",
    "plt.xlim(-20,20)\n",
    "plt.ylim(-20,20)"
   ]
  },
  {
   "cell_type": "code",
   "execution_count": null,
   "metadata": {
    "collapsed": false
   },
   "outputs": [],
   "source": [
    "mu1 = [0,0]\n",
    "sigma1 = np.array([[1,-.75],[-.75,1]])\n",
    "\n",
    "s1 = [gauss(mu1, sigma1) for a in range(100)] \n",
    "s1 = np.resize(s1,(100,4))\n",
    "x1,y1 = s1[:,0], s1[:,3]\n",
    "\n",
    "plt.scatter(x1,y1)\n",
    "plt.xlim(-4,4)\n",
    "plt.ylim(-4,4)"
   ]
  },
  {
   "cell_type": "markdown",
   "metadata": {},
   "source": [
    "### 8) Conside the linear classifier $w \\cdotp x \\geq \\theta$"
   ]
  },
  {
   "cell_type": "markdown",
   "metadata": {},
   "source": [
    "$$w =\\begin{bmatrix} 3 \\\\ 4 \\end{bmatrix} \\text{ and } \\theta = 12.$$\n",
    "\n",
    "#### Sketch the decision boundary in $\\mathbb{R}^2$.  Make sure to label precisely where the boundar intersects the coordinate axes, and also indicate which side of the boundary is the positive side."
   ]
  },
  {
   "cell_type": "markdown",
   "metadata": {},
   "source": [
    "## Worksheet 6 - Generative Models 2\n",
    "<em>Handwritten digit recognition using a Gaussian generator model.</em>"
   ]
  },
  {
   "cell_type": "markdown",
   "metadata": {},
   "source": [
    "Get the MNIST data set of handwritten digits from http://yann.lecun.com/exdb/mnist/index.html\n",
    "\n",
    "    train-images-idx3-ubyte.gz:  training set images (9912422 bytes) \n",
    "    train-labels-idx1-ubyte.gz:  training set labels (28881 bytes) \n",
    "    t10k-images-idx3-ubyte.gz:   test set images (1648877 bytes) \n",
    "    t10k-labels-idx1-ubyte.gz:   test set labels (4542 bytes)\n",
    "\n",
    "\n"
   ]
  },
  {
   "cell_type": "code",
   "execution_count": 1,
   "metadata": {
    "collapsed": true
   },
   "outputs": [],
   "source": [
    "from struct import unpack\n",
    "import numpy as np\n",
    "import matplotlib.pylab as plt \n",
    "\n",
    "def loadmnist(imagefile, labelfile):\n",
    "\n",
    "    # Open the images with gzip in read binary mode\n",
    "    images = open(imagefile, 'rb')\n",
    "    labels = open(labelfile, 'rb')\n",
    "\n",
    "    # Get metadata for images\n",
    "    images.read(4)  # skip the magic_number\n",
    "    number_of_images = images.read(4)\n",
    "    number_of_images = unpack('>I', number_of_images)[0]\n",
    "    rows = images.read(4)\n",
    "    rows = unpack('>I', rows)[0]\n",
    "    cols = images.read(4)\n",
    "    cols = unpack('>I', cols)[0]\n",
    "\n",
    "    # Get metadata for labels\n",
    "    labels.read(4)\n",
    "    N = labels.read(4)\n",
    "    N = unpack('>I', N)[0]\n",
    "\n",
    "    # Get data\n",
    "    x = np.zeros((N, rows*cols), dtype=np.uint8)  # Initialize numpy array\n",
    "    y = np.zeros(N, dtype=np.uint8)  # Initialize numpy array\n",
    "    for i in range(N):\n",
    "        for j in range(rows*cols):\n",
    "            tmp_pixel = images.read(1)  # Just a single byte\n",
    "            tmp_pixel = unpack('>B', tmp_pixel)[0]\n",
    "            x[i][j] = tmp_pixel\n",
    "        tmp_label = labels.read(1)\n",
    "        y[i] = unpack('>B', tmp_label)[0]\n",
    "\n",
    "    images.close()\n",
    "    labels.close()\n",
    "    return (x, y)\n",
    "\n",
    "def displaychar(image):\n",
    "    plt.imshow(np.reshape(image, (28,28)), cmap=plt.cm.gray)\n",
    "    plt.axis('off')\n",
    "    plt.show()"
   ]
  },
  {
   "cell_type": "code",
   "execution_count": 2,
   "metadata": {
    "collapsed": false
   },
   "outputs": [],
   "source": [
    "#x,y = loadmnist('../data/train-images-idx3-ubyte', '../data/train-labels-idx1-ubyte')\n",
    "#Don't load this again unless you have to - it takes a while."
   ]
  },
  {
   "cell_type": "code",
   "execution_count": 6,
   "metadata": {
    "collapsed": false
   },
   "outputs": [
    {
     "data": {
      "text/plain": [
       "(60000, 784)"
      ]
     },
     "execution_count": 6,
     "metadata": {},
     "output_type": "execute_result"
    }
   ],
   "source": [
    "np.shape(x)"
   ]
  },
  {
   "cell_type": "code",
   "execution_count": 7,
   "metadata": {
    "collapsed": false
   },
   "outputs": [
    {
     "data": {
      "text/plain": [
       "(60000,)"
      ]
     },
     "execution_count": 7,
     "metadata": {},
     "output_type": "execute_result"
    }
   ],
   "source": [
    "np.shape(y)"
   ]
  },
  {
   "cell_type": "code",
   "execution_count": 114,
   "metadata": {
    "collapsed": false
   },
   "outputs": [
    {
     "name": "stdout",
     "output_type": "stream",
     "text": [
      "(50000, 784) (10000, 784)\n",
      "(10000, 784) (10000, 784)\n"
     ]
    }
   ],
   "source": [
    "from sklearn.cross_validation import train_test_split\n",
    "\n",
    "#split the training set into two pieces - a training set of size 50000 and a seperate validation set of size 10000\n",
    "#x_train, x_validate, y_train, y_validate = train_test_split(x, y, test_size=.16666, random_state=42)\n",
    "print np.shape(x_train), np.shape(x_validate)\n",
    "\n",
    "#also load in the test data\n",
    "#x_test,y_test = loadmnist('../data/t10k-images-idx3-ubyte', '../data/t10k-labels-idx1-ubyte')\n",
    "print np.shape(x_test), np.shape(x_test)"
   ]
  },
  {
   "cell_type": "code",
   "execution_count": 115,
   "metadata": {
    "collapsed": false
   },
   "outputs": [
    {
     "data": {
      "text/plain": [
       "[0.0,\n",
       " 0.025398809416758088,\n",
       " 0.044637879251119547,\n",
       " 0.069209395176519251,\n",
       " 0.087441325108357462,\n",
       " 0.1012085678830279,\n",
       " 0.13318525978814091,\n",
       " 0.1638175997697966,\n",
       " 0.17524234303904465,\n",
       " 0.19985882056723558]"
      ]
     },
     "execution_count": 115,
     "metadata": {},
     "output_type": "execute_result"
    }
   ],
   "source": [
    "#Determine the class probabilities\n",
    "from __future__ import division\n",
    "\n",
    "total = sum(y_train)\n",
    "Pi_j = [sum([j for j in y_train if j == i])/total for i in set(y_train)]\n",
    "Pi_j"
   ]
  },
  {
   "cell_type": "code",
   "execution_count": 249,
   "metadata": {
    "collapsed": false
   },
   "outputs": [
    {
     "data": {
      "text/plain": [
       "((10,), (10,))"
      ]
     },
     "execution_count": 249,
     "metadata": {},
     "output_type": "execute_result"
    }
   ],
   "source": [
    "#find the mean and covariance of each of the labels/digits\n",
    "train_merged = np.concatenate((x_train,np.transpose([y_train])), axis=1)\n",
    "train_merged[0,-1]\n",
    "\n",
    "mu = []\n",
    "sigma = []\n",
    "for i in range(10):\n",
    "    row_idx = np.where((train_merged[:,-1] == i))[0]\n",
    "    mu.append(np.mean(x_train[row_idx[:,]]))\n",
    "    sigma.append(np.cov(x_train[row_idx[:,]]))\n",
    "\n",
    "np.shape(mu), np.shape(sigma)"
   ]
  },
  {
   "cell_type": "code",
   "execution_count": 303,
   "metadata": {
    "collapsed": false
   },
   "outputs": [],
   "source": [
    "#Fit a Gaussian to each digit\n",
    "from random import gauss\n",
    "\n",
    "Pj = [gauss(mu[j], sigma[j]) for j in range(10)]\n"
   ]
  },
  {
   "cell_type": "code",
   "execution_count": 307,
   "metadata": {
    "collapsed": false
   },
   "outputs": [],
   "source": [
    "#Use the images in the validate set and classify them\n",
    "validate_merged = np.concatenate((x_validate,np.transpose([y_validate])), axis=1)"
   ]
  },
  {
   "cell_type": "code",
   "execution_count": 308,
   "metadata": {
    "collapsed": false
   },
   "outputs": [
    {
     "data": {
      "text/plain": [
       "array([[0, 0, 0, ..., 0, 0, 7],\n",
       "       [0, 0, 0, ..., 0, 0, 3],\n",
       "       [0, 0, 0, ..., 0, 0, 8],\n",
       "       ..., \n",
       "       [0, 0, 0, ..., 0, 0, 9],\n",
       "       [0, 0, 0, ..., 0, 0, 8],\n",
       "       [0, 0, 0, ..., 0, 0, 1]], dtype=uint8)"
      ]
     },
     "execution_count": 308,
     "metadata": {},
     "output_type": "execute_result"
    }
   ],
   "source": [
    "validate_merged"
   ]
  }
 ],
 "metadata": {
  "kernelspec": {
   "display_name": "Python 2",
   "language": "python",
   "name": "python2"
  },
  "language_info": {
   "codemirror_mode": {
    "name": "ipython",
    "version": 2
   },
   "file_extension": ".py",
   "mimetype": "text/x-python",
   "name": "python",
   "nbconvert_exporter": "python",
   "pygments_lexer": "ipython2",
   "version": "2.7.10"
  }
 },
 "nbformat": 4,
 "nbformat_minor": 0
}
